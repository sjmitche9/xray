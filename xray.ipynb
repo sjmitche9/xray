{
 "cells": [
  {
   "cell_type": "code",
   "execution_count": 7,
   "id": "cf180e72",
   "metadata": {},
   "outputs": [
    {
     "name": "stdout",
     "output_type": "stream",
     "text": [
      "[Debug] Top-level keys: ['cxr']\n",
      "<HDF5 file \"cxr.h5\" (mode r)>\n",
      "(320, 320)\n"
     ]
    }
   ],
   "source": [
    "import h5py\n",
    "h5_path = \"data/cxr-pro-mimic/cxr.h5\"\n",
    "\n",
    "with h5py.File(h5_path, \"r\") as h5_file:\n",
    "    print(\"[Debug] Top-level keys:\", list(h5_file.keys()))\n",
    "\n",
    "    if \"cxr\" in h5_file:\n",
    "        print(h5_file)\n",
    "        cxr_group = h5_file[\"cxr\"]\n",
    "        print(cxr_group[0].shape)\n"
   ]
  },
  {
   "cell_type": "code",
   "execution_count": null,
   "id": "2a0f87e1",
   "metadata": {},
   "outputs": [],
   "source": []
  }
 ],
 "metadata": {
  "kernelspec": {
   "display_name": "env_xray",
   "language": "python",
   "name": "python3"
  },
  "language_info": {
   "codemirror_mode": {
    "name": "ipython",
    "version": 3
   },
   "file_extension": ".py",
   "mimetype": "text/x-python",
   "name": "python",
   "nbconvert_exporter": "python",
   "pygments_lexer": "ipython3",
   "version": "3.11.9"
  }
 },
 "nbformat": 4,
 "nbformat_minor": 5
}
