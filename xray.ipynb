{
 "cells": [
  {
   "cell_type": "code",
   "execution_count": 1,
   "id": "0f00099d",
   "metadata": {},
   "outputs": [
    {
     "name": "stderr",
     "output_type": "stream",
     "text": [
      "c:\\Users\\sjmit\\xray\\env_xray\\Lib\\site-packages\\tqdm\\auto.py:21: TqdmWarning: IProgress not found. Please update jupyter and ipywidgets. See https://ipywidgets.readthedocs.io/en/stable/user_install.html\n",
      "  from .autonotebook import tqdm as notebook_tqdm\n"
     ]
    }
   ],
   "source": [
    "from datasets import load_from_disk"
   ]
  },
  {
   "cell_type": "code",
   "execution_count": 2,
   "id": "d7123dfa",
   "metadata": {},
   "outputs": [],
   "source": [
    "dataset = load_from_disk(\"processed/iu_xray_hf\")\n",
    "split = dataset.train_test_split(test_size=0.2, seed=42)\n",
    "train_val = split['train'].train_test_split(test_size=0.1, seed=42)\n",
    "\n",
    "train_dataset = train_val['train']\n",
    "val_dataset = train_val['test']\n",
    "test_dataset = split['test']"
   ]
  },
  {
   "cell_type": "code",
   "execution_count": 3,
   "id": "8c40b806",
   "metadata": {},
   "outputs": [
    {
     "name": "stderr",
     "output_type": "stream",
     "text": [
      "Saving the dataset (3/3 shards): 100%|██████████| 5374/5374 [00:02<00:00, 2334.55 examples/s]\n",
      "Saving the dataset (1/1 shards): 100%|██████████| 598/598 [00:00<00:00, 2149.72 examples/s]\n",
      "Saving the dataset (1/1 shards): 100%|██████████| 1494/1494 [00:00<00:00, 2418.53 examples/s]\n"
     ]
    }
   ],
   "source": [
    "train_dataset.save_to_disk(\"processed/train\")\n",
    "val_dataset.save_to_disk(\"processed/val\")\n",
    "test_dataset.save_to_disk(\"processed/test\")"
   ]
  },
  {
   "cell_type": "code",
   "execution_count": null,
   "id": "fd74dc7a",
   "metadata": {},
   "outputs": [],
   "source": []
  }
 ],
 "metadata": {
  "kernelspec": {
   "display_name": "env_xray",
   "language": "python",
   "name": "python3"
  },
  "language_info": {
   "codemirror_mode": {
    "name": "ipython",
    "version": 3
   },
   "file_extension": ".py",
   "mimetype": "text/x-python",
   "name": "python",
   "nbconvert_exporter": "python",
   "pygments_lexer": "ipython3",
   "version": "3.11.9"
  }
 },
 "nbformat": 4,
 "nbformat_minor": 5
}
